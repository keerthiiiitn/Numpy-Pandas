{
 "cells": [
  {
   "cell_type": "code",
   "execution_count": 1,
   "metadata": {},
   "outputs": [
    {
     "name": "stdout",
     "output_type": "stream",
     "text": [
      "10 20\n",
      "10 20\n"
     ]
    }
   ],
   "source": [
    "n,k = map(int,input().split())\n",
    "print(n,k)"
   ]
  },
  {
   "cell_type": "code",
   "execution_count": 2,
   "metadata": {},
   "outputs": [
    {
     "name": "stdout",
     "output_type": "stream",
     "text": [
      "23 45 12\n"
     ]
    },
    {
     "data": {
      "text/plain": [
       "45"
      ]
     },
     "execution_count": 2,
     "metadata": {},
     "output_type": "execute_result"
    }
   ],
   "source": [
    "max(map(int,input().split()))"
   ]
  },
  {
   "cell_type": "code",
   "execution_count": null,
   "metadata": {},
   "outputs": [],
   "source": [
    "n = int(input())\n",
    "n1 = list(map(int,input().split()))\n",
    "s = ''\n",
    "for i in n1:\n",
    "    s = s + str(i%10)\n",
    "if int(s)%10==0:\n",
    "    print('Yes')\n",
    "else:\n",
    "    print(\"No\")"
   ]
  },
  {
   "cell_type": "code",
   "execution_count": null,
   "metadata": {},
   "outputs": [],
   "source": [
    "t = int(input())\n",
    "n = int(input())\n",
    "for i in range(t):\n",
    "    if n%2==0:\n",
    "        cf = n//2\n",
    "    elif n%2!=0:\n",
    "        n = (3*n)+1\n",
    "print(n)"
   ]
  },
  {
   "cell_type": "markdown",
   "metadata": {},
   "source": [
    "- Given an array of integers, calculate the fractions of its elements that are positive, negative, and are zeros.\n",
    "  Print the decimal value of each fraction on a new line.\n",
    "  \n",
    "  I/P :- 5\n",
    "         1 1 0 -1 -1\n",
    "         \n",
    "  O/P :- 0.400000 --> 2/5\n",
    "         0.400000 --> 2/5\n",
    "         0.200000 --> 1/5"
   ]
  },
  {
   "cell_type": "code",
   "execution_count": 11,
   "metadata": {},
   "outputs": [
    {
     "name": "stdout",
     "output_type": "stream",
     "text": [
      "5\n",
      "1 1 0 -1 -1\n",
      "0.400000\n",
      "0.400000\n",
      "0.200000\n"
     ]
    }
   ],
   "source": [
    "n = int(input())\n",
    "n1 = map(int,input().split())\n",
    "lp = []\n",
    "ln = []\n",
    "lz = []\n",
    "c = 0\n",
    "for i in n1:\n",
    "    c +=1\n",
    "    if i>0:\n",
    "        lp.append(i)\n",
    "    elif i<0:\n",
    "        ln.append(i)\n",
    "    else:\n",
    "        lz.append(i)\n",
    "#print(lp,ln,lz)\n",
    "print('%.6f'%(len(lp)/c))\n",
    "print('%.6f'%(len(ln)/c))\n",
    "print('%.6f'%(len(lz)/c))\n",
    "#print(c)"
   ]
  },
  {
   "cell_type": "markdown",
   "metadata": {},
   "source": [
    "- Consider a staircase of size : n = 5\n",
    "    \n",
    "             #\n",
    "            # #\n",
    "           # # #\n",
    "          # # # #\n",
    "         # # # # #"
   ]
  },
  {
   "cell_type": "code",
   "execution_count": 57,
   "metadata": {},
   "outputs": [
    {
     "name": "stdout",
     "output_type": "stream",
     "text": [
      "5\n",
      "        # \n",
      "       # # \n",
      "      # # # \n",
      "     # # # # \n",
      "    # # # # # \n"
     ]
    }
   ],
   "source": [
    "n = int(input())\n",
    "k = 2*n - 2\n",
    "for i in range(0,n):\n",
    "    for j in range(0, k):\n",
    "        print(end=\" \")\n",
    "    k -= 1\n",
    "    for j in range(0, i+1):\n",
    "        print('# ',end=\"\")\n",
    "    print('\\r')"
   ]
  },
  {
   "cell_type": "code",
   "execution_count": 41,
   "metadata": {},
   "outputs": [
    {
     "name": "stdout",
     "output_type": "stream",
     "text": [
      "[1, 3, 7, 9, 8, 7, 4, 2]\n"
     ]
    }
   ],
   "source": [
    "#  I/P :- li = [9,3,1,7,2,8,4,7]\n",
    "#  O/P :- li = [1,3,7,9,8,7,4,2]\n",
    "\n",
    "li = [9,3,1,7,2,8,4,7]\n",
    "l2 = li[0:4]\n",
    "l3 = li[4:]\n",
    "l2.sort()\n",
    "l3.sort(reverse=True)\n",
    "res = l2+l3\n",
    "print(res)\n"
   ]
  },
  {
   "cell_type": "code",
   "execution_count": 76,
   "metadata": {},
   "outputs": [
    {
     "name": "stdout",
     "output_type": "stream",
     "text": [
      "4\n",
      "1 3 2 3\n",
      "2\n"
     ]
    }
   ],
   "source": [
    "def birthdayCakeCandles(ar):\n",
    "    dic = {}\n",
    "    for i in ar:\n",
    "        if i in dic:\n",
    "            dic[i]+=1\n",
    "        else:\n",
    "            dic[i]=1\n",
    "    #print(dic)\n",
    "    #print(max(dic.keys()))\n",
    "    for i in dic.items():\n",
    "        if max(dic.keys()) == i[0]:\n",
    "            print(i[1])\n",
    "    \n",
    "\n",
    "n = int(input())\n",
    "birthdayCakeCandles(map(int, input().split()))"
   ]
  },
  {
   "cell_type": "code",
   "execution_count": 77,
   "metadata": {},
   "outputs": [
    {
     "name": "stdout",
     "output_type": "stream",
     "text": [
      "4\n",
      "1 3 2 3\n",
      "2\n"
     ]
    }
   ],
   "source": [
    "def birthdayCakeCandles(ar):\n",
    "    print(ar.count(max(ar)))\n",
    "    \n",
    "n = int(input())\n",
    "birthdayCakeCandles(list(map(int, input().split())))"
   ]
  },
  {
   "cell_type": "code",
   "execution_count": 17,
   "metadata": {},
   "outputs": [
    {
     "name": "stdout",
     "output_type": "stream",
     "text": [
      "4\n",
      "73\n",
      "67\n",
      "38\n",
      "33\n",
      "75\n",
      "67\n",
      "40\n",
      "35\n"
     ]
    }
   ],
   "source": [
    "n=int(input())\n",
    "li = []\n",
    "for i in range(n):\n",
    "    li.append(int(input()))\n",
    "#print(li)\n",
    "for i in li:\n",
    "    rem = i%5\n",
    "    x = 5-rem\n",
    "    next = x+i\n",
    "    diff = next-i\n",
    "    if diff < 3:\n",
    "        print(next)\n",
    "    else:\n",
    "        print(i)"
   ]
  },
  {
   "cell_type": "code",
   "execution_count": null,
   "metadata": {},
   "outputs": [],
   "source": []
  },
  {
   "cell_type": "code",
   "execution_count": null,
   "metadata": {},
   "outputs": [],
   "source": []
  }
 ],
 "metadata": {
  "kernelspec": {
   "display_name": "Python 3",
   "language": "python",
   "name": "python3"
  },
  "language_info": {
   "codemirror_mode": {
    "name": "ipython",
    "version": 3
   },
   "file_extension": ".py",
   "mimetype": "text/x-python",
   "name": "python",
   "nbconvert_exporter": "python",
   "pygments_lexer": "ipython3",
   "version": "3.7.3"
  }
 },
 "nbformat": 4,
 "nbformat_minor": 2
}
